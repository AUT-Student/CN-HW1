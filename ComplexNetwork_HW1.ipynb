{
  "nbformat": 4,
  "nbformat_minor": 0,
  "metadata": {
    "colab": {
      "provenance": [],
      "collapsed_sections": [],
      "authorship_tag": "ABX9TyPFBOVwU/iqzeobIH1um8b9",
      "include_colab_link": true
    },
    "kernelspec": {
      "name": "python3",
      "display_name": "Python 3"
    },
    "language_info": {
      "name": "python"
    }
  },
  "cells": [
    {
      "cell_type": "markdown",
      "metadata": {
        "id": "view-in-github",
        "colab_type": "text"
      },
      "source": [
        "<a href=\"https://colab.research.google.com/github/AUT-Student/CN-HW1/blob/main/ComplexNetwork_HW1.ipynb\" target=\"_parent\"><img src=\"https://colab.research.google.com/assets/colab-badge.svg\" alt=\"Open In Colab\"/></a>"
      ]
    },
    {
      "cell_type": "markdown",
      "source": [
        "# Data Class"
      ],
      "metadata": {
        "id": "4s9OPoP5Wa4o"
      }
    },
    {
      "cell_type": "code",
      "source": [
        "from dataclasses import dataclass\n",
        "\n",
        "@dataclass(frozen=True)\n",
        "class Edge():\n",
        "  source: int\n",
        "  destination: int\n",
        "\n",
        "  # def sort(self):\n",
        "  #   return Edge(min(self.destination, self.source),\n",
        "  #               max(self.destination, self.source))\n",
        "    \n",
        "  def __eq__(self, other):\n",
        "    return (self.source == other.source and self.destination == other.destination) or\\\n",
        "           (self.destination == other.source and self.source == other.destination)\n"
      ],
      "metadata": {
        "id": "paR7AHaeQyWp"
      },
      "execution_count": 8,
      "outputs": []
    },
    {
      "cell_type": "code",
      "execution_count": 25,
      "metadata": {
        "id": "QbJgrRoXNxMk"
      },
      "outputs": [],
      "source": [
        "class Graph():\n",
        "  def __init__(self):\n",
        "    self.nodes = set()\n",
        "    self.edges = set()\n",
        "    self.edge_list = dict()\n",
        "\n",
        "  def add_node(self, node):\n",
        "    self.nodes.add(node)\n",
        "\n",
        "    if node not in self.edge_list:\n",
        "      self.edge_list[node] = set()\n",
        "\n",
        "  def add_edge(self, edge:Edge):\n",
        "    self.add_node(edge.source)\n",
        "    self.add_node(edge.destination)\n",
        "\n",
        "    self.edge_list[edge.source].add(edge.destination)\n",
        "    self.edge_list[edge.destination].add(edge.source)\n",
        "    self.edges.add(edge)\n",
        "\n",
        "  def remove_edge(self, edge:Edge):\n",
        "    self.edge_list[edge.source].remove(edge.destination)\n",
        "    self.edge_list[edge.destination].remove(edge.source)\n",
        "    self.edges.remove(edge)\n",
        "\n",
        "  def is_exist(self, edge:Edge):\n",
        "    return edge in self.edges\n",
        "\n",
        "  def get_number_nodes(self):\n",
        "    return len(self.nodes)\n",
        "\n",
        "  def get_number_edges(self):\n",
        "    return len(self.edges)\n",
        "\n",
        "  def get_cluster_coefficient_node(self, node):\n",
        "    neighbours = self.edge_list[node]\n",
        "\n",
        "    k_node = len(neighbours)\n",
        "    e_node = 0\n",
        "\n",
        "    if k_node <= 1: return 0\n",
        "\n",
        "    for n1 in neighbours:\n",
        "      for n2 in neighbours:\n",
        "        if n1 < n2:\n",
        "          if self.is_exist(Edge(n1, n2)):\n",
        "            e_node += 1\n",
        "    \n",
        "    return (2 * e_node) / (k_node * (k_node - 1))\n",
        "\n",
        "\n",
        "  def get_cluster_coefficient(self):\n",
        "    sum = 0\n",
        "    for node in self.nodes:\n",
        "      cluster_coefficient = self.get_cluster_coefficient_node(node)\n",
        "      sum += cluster_coefficient\n",
        "    \n",
        "    return sum / len(self.nodes)"
      ]
    },
    {
      "cell_type": "markdown",
      "source": [
        "# Graph Generation"
      ],
      "metadata": {
        "id": "XSnrZ_qZWdQS"
      }
    },
    {
      "cell_type": "code",
      "source": [
        "import random\n",
        "\n",
        "class ErdosRenyiGraph(Graph):\n",
        "  def __init__(self, number_nodes, number_edges):\n",
        "    super().__init__()\n",
        "    self.number_nodes = number_nodes\n",
        "    self.number_edges = number_edges\n",
        "\n",
        "  def generate(self):\n",
        "    for i in range(self.number_nodes):\n",
        "      self.add_node(i)\n",
        "\n",
        "    all_possible_edges = []\n",
        "    for node1 in range(self.number_nodes):\n",
        "      for node2 in range(node1+1, self.number_nodes):\n",
        "        all_possible_edges.append(Edge(node1, node2))\n",
        "    \n",
        "    selected_edges = random.sample(all_possible_edges, self.number_edges)\n",
        "    for edge in selected_edges:\n",
        "      self.add_edge(edge)\n"
      ],
      "metadata": {
        "id": "usI0nwKaecSI"
      },
      "execution_count": 26,
      "outputs": []
    },
    {
      "cell_type": "code",
      "source": [
        "import random\n",
        "\n",
        "class SmallWorldGraph(Graph):\n",
        "  def __init__(self, number_nodes, number_edges, random_prob):\n",
        "    super().__init__()\n",
        "    self.number_nodes = number_nodes\n",
        "    self.number_edges = number_edges\n",
        "    self.scale = self.number_edges / self.number_nodes\n",
        "    self.random_prob = random_prob\n",
        "\n",
        "  def random_change(self, number_random):\n",
        "    remove_edges = random.sample(self.edges, number_random)\n",
        "    source_edges_remove = list()\n",
        "    for edge in remove_edges:\n",
        "      self.remove_edge(edge)\n",
        "      source_edges_remove.append(edge.source)\n",
        "\n",
        "    source_edges_remove = random.sample(source_edges_remove, self.number_edges - self.get_number_edges())\n",
        "\n",
        "    all_nodes = list(self.nodes)\n",
        "    for node1 in source_edges_remove:\n",
        "      while True:\n",
        "        node2 = random.choice(all_nodes)\n",
        "        edge = Edge(node1, node2)\n",
        "        if node2 != node1 and not self.is_exist(edge):\n",
        "          self.add_edge(edge)\n",
        "          break\n",
        "\n",
        "  def generate(self):\n",
        "    for i in range(self.number_nodes):\n",
        "      self.add_node(i)\n",
        "\n",
        "    number_edges1 = int(self.scale)\n",
        "    number_edges2 = int((self.scale - int(self.scale))*100 + 1)\n",
        "    \n",
        "    counter1 = 0\n",
        "    counter2 = 0\n",
        "    \n",
        "    for node1 in range(self.number_nodes):\n",
        "      for distance in range(1, number_edges1+1):\n",
        "        node2 = (node1 + distance)%self.number_nodes\n",
        "        self.add_edge(Edge(node1, node2))\n",
        "        counter1 += 1\n",
        "\n",
        "      if (node1 %100) < number_edges2:\n",
        "        node2 = (node1 + number_edges1 + 1)%self.number_nodes\n",
        "        self.add_edge(Edge(node1, node2))\n",
        "        counter2 += 1\n",
        "\n",
        "    number_random = int((self.get_number_edges() - self.number_edges) +\\\n",
        "                          self.random_prob * self.get_number_edges())\n",
        "    \n",
        "    self.random_change(number_random = number_random)"
      ],
      "metadata": {
        "id": "BhOIDWoNnMTY"
      },
      "execution_count": 37,
      "outputs": []
    },
    {
      "cell_type": "code",
      "source": [
        "import pandas as pd\n",
        "\n",
        "class LastfmGraph(Graph):\n",
        "  def __init__(self):\n",
        "    super().__init__()\n",
        "    self._load_data()\n",
        "\n",
        "  def _load_data(self):\n",
        "    !gdown https://snap.stanford.edu/data/lastfm_asia.zip\n",
        "    !unzip  -n /content/lastfm_asia.zip\n",
        "\n",
        "    lastfm_dataset = pd.read_csv(\"/content/lasftm_asia/lastfm_asia_edges.csv\")\n",
        "\n",
        "    for i, data in lastfm_dataset.iterrows():\n",
        "      node1 = data[\"node_1\"]\n",
        "      node2 = data[\"node_2\"]\n",
        "\n",
        "      self.add_edge(Edge(node1, node2))"
      ],
      "metadata": {
        "id": "OszAg9-vWi9b"
      },
      "execution_count": 28,
      "outputs": []
    },
    {
      "cell_type": "markdown",
      "source": [
        "# Create Graphs"
      ],
      "metadata": {
        "id": "MgGdB93TXrwq"
      }
    },
    {
      "cell_type": "code",
      "source": [
        "lastfm_graph = LastfmGraph()"
      ],
      "metadata": {
        "colab": {
          "base_uri": "https://localhost:8080/"
        },
        "id": "syAkI7p8XzTs",
        "outputId": "1215d821-d10d-429a-fd8c-2a58da26c7df"
      },
      "execution_count": 29,
      "outputs": [
        {
          "output_type": "stream",
          "name": "stdout",
          "text": [
            "Downloading...\n",
            "From: https://snap.stanford.edu/data/lastfm_asia.zip\n",
            "To: /content/lastfm_asia.zip\n",
            "100% 6.53M/6.53M [00:04<00:00, 1.47MB/s]\n",
            "Archive:  /content/lastfm_asia.zip\n"
          ]
        }
      ]
    },
    {
      "cell_type": "code",
      "source": [
        "er_graph = ErdosRenyiGraph(number_nodes=7624, number_edges=27806)"
      ],
      "metadata": {
        "id": "6AIbNjs7jgHx"
      },
      "execution_count": 31,
      "outputs": []
    },
    {
      "cell_type": "code",
      "source": [
        "er_graph.generate()"
      ],
      "metadata": {
        "id": "JzyBsF_7jzFt"
      },
      "execution_count": 32,
      "outputs": []
    },
    {
      "cell_type": "code",
      "source": [
        "small_world_graph = SmallWorldGraph(number_nodes=7624, number_edges=27806, random_prob=0.05)"
      ],
      "metadata": {
        "id": "gHnynnAkqqEz"
      },
      "execution_count": 38,
      "outputs": []
    },
    {
      "cell_type": "code",
      "source": [
        "small_world_graph.generate()"
      ],
      "metadata": {
        "id": "5dZn_NjtrIeg"
      },
      "execution_count": 39,
      "outputs": []
    },
    {
      "cell_type": "markdown",
      "source": [
        "# Digree Distribution"
      ],
      "metadata": {
        "id": "tnpZGXmxXXsZ"
      }
    },
    {
      "cell_type": "code",
      "source": [],
      "metadata": {
        "id": "jtiVqlykbHTI"
      },
      "execution_count": null,
      "outputs": []
    },
    {
      "cell_type": "markdown",
      "source": [
        "# Clustering Coefficient"
      ],
      "metadata": {
        "id": "2xkc2WoTXfN4"
      }
    },
    {
      "cell_type": "code",
      "source": [
        "er_graph.get_cluster_coefficient()"
      ],
      "metadata": {
        "colab": {
          "base_uri": "https://localhost:8080/"
        },
        "id": "U_Nh3bwhaO-M",
        "outputId": "5cd04eb2-62b8-4657-9fb6-edb4ff22a679"
      },
      "execution_count": 34,
      "outputs": [
        {
          "output_type": "execute_result",
          "data": {
            "text/plain": [
              "0.0009161118793626045"
            ]
          },
          "metadata": {},
          "execution_count": 34
        }
      ]
    },
    {
      "cell_type": "code",
      "source": [
        "small_world_graph.get_cluster_coefficient()"
      ],
      "metadata": {
        "colab": {
          "base_uri": "https://localhost:8080/"
        },
        "id": "pJsgEvAWaZMg",
        "outputId": "d95e04f4-3422-4aa3-de13-66e98ad9be5f"
      },
      "execution_count": 40,
      "outputs": [
        {
          "output_type": "execute_result",
          "data": {
            "text/plain": [
              "0.542798989369023"
            ]
          },
          "metadata": {},
          "execution_count": 40
        }
      ]
    },
    {
      "cell_type": "code",
      "source": [
        "lastfm_graph.get_cluster_coefficient()"
      ],
      "metadata": {
        "colab": {
          "base_uri": "https://localhost:8080/"
        },
        "id": "G0IKTDcRX3r1",
        "outputId": "b052edf1-1417-4c84-bfe3-681e31e6f41b"
      },
      "execution_count": 30,
      "outputs": [
        {
          "output_type": "execute_result",
          "data": {
            "text/plain": [
              "0.21941842432708525"
            ]
          },
          "metadata": {},
          "execution_count": 30
        }
      ]
    }
  ]
}