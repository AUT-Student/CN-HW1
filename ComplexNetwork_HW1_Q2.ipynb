{
  "nbformat": 4,
  "nbformat_minor": 0,
  "metadata": {
    "colab": {
      "provenance": [],
      "authorship_tag": "ABX9TyPtH7Q0oWrh1CMKhWU2QRI+",
      "include_colab_link": true
    },
    "kernelspec": {
      "name": "python3",
      "display_name": "Python 3"
    },
    "language_info": {
      "name": "python"
    }
  },
  "cells": [
    {
      "cell_type": "markdown",
      "metadata": {
        "id": "view-in-github",
        "colab_type": "text"
      },
      "source": [
        "<a href=\"https://colab.research.google.com/github/AUT-Student/CN-HW1/blob/main/Q2%5CComplexNetwork_HW1_Q2.ipynb\" target=\"_parent\"><img src=\"https://colab.research.google.com/assets/colab-badge.svg\" alt=\"Open In Colab\"/></a>"
      ]
    },
    {
      "cell_type": "code",
      "execution_count": 2,
      "metadata": {
        "id": "5jTrzni7G9HS"
      },
      "outputs": [],
      "source": []
    },
    {
      "cell_type": "code",
      "source": [],
      "metadata": {
        "id": "f9eH91cpHNhF"
      },
      "execution_count": 3,
      "outputs": []
    },
    {
      "cell_type": "code",
      "source": [
        "graph.add_edges_from([(1,2), (0,1), (3,2)])"
      ],
      "metadata": {
        "id": "aFc18NN3HY-M"
      },
      "execution_count": 5,
      "outputs": []
    },
    {
      "cell_type": "code",
      "source": [
        "import matplotlib.pyplot as plt\n",
        "\n",
        "nx.draw(graph, with_labels=True, font_weight='bold')"
      ],
      "metadata": {
        "colab": {
          "base_uri": "https://localhost:8080/",
          "height": 319
        },
        "id": "XyLbzYN0kus5",
        "outputId": "b492d804-0baf-4ea8-d04d-fe1e87a7978f"
      },
      "execution_count": 6,
      "outputs": [
        {
          "output_type": "display_data",
          "data": {
            "text/plain": [
              "<Figure size 432x288 with 1 Axes>"
            ],
            "image/png": "[encoded data removed]"
          },
          "metadata": {}
        }
      ]
    },
    {
      "cell_type": "code",
      "source": [
        "import networkx as nx\n",
        "import random\n",
        "\n",
        "class RandomGraph():\n",
        "  def __init__(self, N, p):\n",
        "    self.N = N\n",
        "    self.p = p\n",
        "    self.graph = None\n",
        "\n",
        "  def generate_graph(self):\n",
        "    self.graph = nx.Graph()\n",
        "    self.graph.add_nodes_from(range(self.N))\n",
        "    \n",
        "    edges = []\n",
        "\n",
        "    for i in range(self.N):\n",
        "      for j in range(i+1, self.N):\n",
        "        if random.random() < self.p:\n",
        "          edges.append((i, j))\n",
        "\n",
        "    self.graph.add_edges_from(edges)\n",
        "\n",
        "  def get_largest_component_scale(self):\n",
        "    largest_component_length = len(max(nx.connected_components(self.graph), key=len))\n",
        "    largest_component_scale = largest_component_length / self.N \n",
        "    return largest_component_scale"
      ],
      "metadata": {
        "id": "qWfStuYdlF0U"
      },
      "execution_count": 22,
      "outputs": []
    },
    {
      "cell_type": "code",
      "source": [
        "random_graph = RandomGraph(N=1000, p=1)"
      ],
      "metadata": {
        "id": "EFFvQcl3qCi3"
      },
      "execution_count": 27,
      "outputs": []
    },
    {
      "cell_type": "code",
      "source": [
        "random_graph.generate_graph()"
      ],
      "metadata": {
        "id": "PsPcLldorODS"
      },
      "execution_count": 28,
      "outputs": []
    },
    {
      "cell_type": "code",
      "source": [
        "max(nx.connected_components(graph), key=len)"
      ],
      "metadata": {
        "colab": {
          "base_uri": "https://localhost:8080/"
        },
        "id": "03USTv17mpFv",
        "outputId": "6e91341e-8632-4b15-e196-c8ba0986c777"
      },
      "execution_count": 12,
      "outputs": [
        {
          "output_type": "execute_result",
          "data": {
            "text/plain": [
              "{0, 1, 2, 3}"
            ]
          },
          "metadata": {},
          "execution_count": 12
        }
      ]
    },
    {
      "cell_type": "code",
      "source": [],
      "metadata": {
        "id": "bqXCFaeZoTxQ"
      },
      "execution_count": null,
      "outputs": []
    }
  ]
}
