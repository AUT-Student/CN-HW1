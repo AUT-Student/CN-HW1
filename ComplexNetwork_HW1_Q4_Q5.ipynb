{
  "nbformat": 4,
  "nbformat_minor": 0,
  "metadata": {
    "colab": {
      "provenance": [],
      "authorship_tag": "ABX9TyMKX8NdESjrJaoz1QU9dnrT",
      "include_colab_link": true
    },
    "kernelspec": {
      "name": "python3",
      "display_name": "Python 3"
    },
    "language_info": {
      "name": "python"
    }
  },
  "cells": [
    {
      "cell_type": "markdown",
      "metadata": {
        "id": "view-in-github",
        "colab_type": "text"
      },
      "source": [
        "<a href=\"https://colab.research.google.com/github/AUT-Student/CN-HW1/blob/main/ComplexNetwork_HW1_Q4_Q5.ipynb\" target=\"_parent\"><img src=\"https://colab.research.google.com/assets/colab-badge.svg\" alt=\"Open In Colab\"/></a>"
      ]
    },
    {
      "cell_type": "code",
      "execution_count": 1,
      "metadata": {
        "id": "K5VpkOMpA5cV"
      },
      "outputs": [],
      "source": [
        "# Refrence: https://hautahi.com/im_greedycelf"
      ]
    },
    {
      "cell_type": "markdown",
      "source": [
        "# Graph"
      ],
      "metadata": {
        "id": "rRsOhUfNEljp"
      }
    },
    {
      "cell_type": "code",
      "source": [
        "from dataclasses import dataclass\n",
        "\n",
        "@dataclass(frozen=True)\n",
        "class Edge():\n",
        "  \"\"\" This class stores data of an directed edge\n",
        "  \n",
        "  Args:\n",
        "    source: The source of an edge\n",
        "    destination: The destination of an edge\n",
        "\n",
        "  Note: Because of undirected manner, the source and the destination can be swap. \n",
        "  \"\"\"\n",
        "  source: int\n",
        "  destination: int"
      ],
      "metadata": {
        "id": "kWT7-a49B6Rd"
      },
      "execution_count": 13,
      "outputs": []
    },
    {
      "cell_type": "code",
      "source": [
        "class Graph():\n",
        "  \"\"\" This class stores data of a directed graph. Furtermore some functions defines here\"\"\"\n",
        "  def __init__(self):\n",
        "    self.nodes = set()\n",
        "    self.edges = set()\n",
        "    self.neighbour_set = dict()\n",
        "\n",
        "  def add_node(self, node):\n",
        "    self.nodes.add(node)\n",
        "\n",
        "    if node not in self.neighbour_set:\n",
        "      self.neighbour_set[node] = set()\n",
        "\n",
        "  def add_edge(self, edge:Edge):\n",
        "    self.add_node(edge.source)\n",
        "    self.add_node(edge.destination)\n",
        "\n",
        "    self.neighbour_set[edge.source].add(edge.destination)\n",
        "    self.edges.add(edge)\n",
        "\n",
        "  def remove_edge(self, edge:Edge):\n",
        "    self.neighbour_set[edge.source].remove(edge.destination)\n",
        "    self.edges.remove(edge)\n",
        "\n",
        "  def is_exist(self, edge:Edge):\n",
        "    return edge in self.edges\n",
        "\n",
        "  def get_number_nodes(self):\n",
        "    return len(self.nodes)\n",
        "\n",
        "  def get_number_edges(self):\n",
        "    return len(self.edges)"
      ],
      "metadata": {
        "id": "nBISchcVBpG-"
      },
      "execution_count": 14,
      "outputs": []
    },
    {
      "cell_type": "code",
      "source": [
        "# Refrence: https://snap.stanford.edu/data/ca-AstroPh.html\n",
        "\n",
        "!gdown https://snap.stanford.edu/data/ca-AstroPh.txt.gz\n",
        "!gzip -d ./ca-AstroPh.txt.gz\n",
        "\n",
        "with open(\"/content/ca-AstroPh.txt\", \"r\") as f:\n",
        "  graph = Graph()\n",
        "\n",
        "  lines = f.readlines()\n",
        "\n",
        "  for line in lines[4:]:\n",
        "    nodes = line.split(\"\\t\")\n",
        "    graph.add_edge(Edge(source=int(nodes[0]), destination=int(nodes[1])))"
      ],
      "metadata": {
        "id": "E7u24ZKWCOXJ"
      },
      "execution_count": 17,
      "outputs": []
    },
    {
      "cell_type": "code",
      "source": [
        "graph.get_number_edges()"
      ],
      "metadata": {
        "colab": {
          "base_uri": "https://localhost:8080/"
        },
        "id": "O4LQOW1yD5aU",
        "outputId": "99b12bf2-cf7c-41e7-f1ba-21734b09d820"
      },
      "execution_count": 18,
      "outputs": [
        {
          "output_type": "execute_result",
          "data": {
            "text/plain": [
              "396160"
            ]
          },
          "metadata": {},
          "execution_count": 18
        }
      ]
    },
    {
      "cell_type": "code",
      "source": [
        "graph.get_number_nodes()"
      ],
      "metadata": {
        "colab": {
          "base_uri": "https://localhost:8080/"
        },
        "id": "ztL2tLAVD8y0",
        "outputId": "f4d122d7-f280-4aed-b903-151cde710a70"
      },
      "execution_count": 19,
      "outputs": [
        {
          "output_type": "execute_result",
          "data": {
            "text/plain": [
              "18772"
            ]
          },
          "metadata": {},
          "execution_count": 19
        }
      ]
    },
    {
      "cell_type": "markdown",
      "source": [
        "# Hill Climbing"
      ],
      "metadata": {
        "id": "Trn3nY2lEn35"
      }
    },
    {
      "cell_type": "code",
      "source": [
        "import random\n",
        "import numpy as np\n",
        "def influence(graph:Graph, initial_nodes,\n",
        "              probability=0.001, number_realization=1):\n",
        "\n",
        "  effected_node_numbers = []\n",
        "  for _ in range(number_realization):\n",
        "    effected_nodes = set()\n",
        "    influencers = initial_nodes\n",
        "\n",
        "    while(len(influencers)>0):\n",
        "      new_influencers = set()\n",
        "\n",
        "      for influencer in influencers:\n",
        "        effected_nodes.add(influencer)\n",
        "\n",
        "      for influencer in influencers:\n",
        "        neighbours = graph.neighbour_set[influencer]\n",
        "\n",
        "        for neighbour in neighbours:\n",
        "          if neighbour not in effected_nodes and random.random() < probability:\n",
        "            new_influencers.add(neighbour)\n",
        "\n",
        "      influencers = list(new_influencers)\n",
        "\n",
        "    effected_node_numbers.append(len(effected_nodes))\n",
        "  \n",
        "  return np.average(effected_node_numbers)"
      ],
      "metadata": {
        "id": "0xqXfkfiEg3Q"
      },
      "execution_count": 51,
      "outputs": []
    },
    {
      "cell_type": "code",
      "source": [
        "influence(graph=graph, initial_nodes=[3, 65540, 65541, 4, 32776, 32777], probability=0.01, number_realization=10000)"
      ],
      "metadata": {
        "colab": {
          "base_uri": "https://localhost:8080/"
        },
        "id": "BB6IxHkkKVPI",
        "outputId": "012ee50a-2d80-4ac9-e1ec-6336d9e35281"
      },
      "execution_count": 65,
      "outputs": [
        {
          "output_type": "execute_result",
          "data": {
            "text/plain": [
              "8.7657"
            ]
          },
          "metadata": {},
          "execution_count": 65
        }
      ]
    },
    {
      "cell_type": "code",
      "source": [
        "node_costs = dict()\n",
        "for node in graph.nodes:\n",
        "  node_costs[node] = 1"
      ],
      "metadata": {
        "id": "ZFW0GOu5PAF8"
      },
      "execution_count": 66,
      "outputs": []
    },
    {
      "cell_type": "code",
      "source": [
        "from copy import deepcopy\n",
        "import math\n",
        "def influence_maximization_hill_climbing(graph:Graph, budget:float,\n",
        "                                         cost_normal:bool,\n",
        "                                         node_costs:dict,\n",
        "                                         probability=0.001,\n",
        "                                         number_realization=1,\n",
        "                                         ):\n",
        "  \"\"\"\n",
        "  Args:\n",
        "    graph(Graph): The graph\n",
        "    budget(float): The maximum treshold for costs of selected nodes.\n",
        "    probability(float): The activation probability in the influence function. (See function influence)\n",
        "    number_realization(int): The number of realization in the influence function. (See function influence)\n",
        "    const_normal(bool): If this arg equals to true, the marginal gain will normalize with cost of each node.\n",
        "    node_costs(dict): The dictionary that specify the selection cost for each node.\n",
        "\n",
        "  Returns:\n",
        "    list: The top nodes with maximum influence\n",
        "  \"\"\"\n",
        "  \n",
        "  top_nodes = list()\n",
        "  remain_budget = budget\n",
        "\n",
        "  while(True):\n",
        "    best_marginal_node_influece = -math.inf\n",
        "    best_new_node = None\n",
        "\n",
        "    for node in graph.nodes:\n",
        "      if node in top_nodes or node_costs[node] > remain_budget: continue\n",
        "\n",
        "      initial_nodes = deepcopy(top_nodes)\n",
        "      initial_nodes.append(node)\n",
        "\n",
        "      marginal_node_influece = influence(graph=graph,\n",
        "                                         initial_nodes=initial_nodes,\n",
        "                                         probability=probability,\n",
        "                                         number_realization=number_realization)\n",
        "\n",
        "      if cost_normal:\n",
        "        marginal_node_influece /= node_costs[node]\n",
        "\n",
        "      if marginal_node_influece > best_marginal_node_influece:\n",
        "        best_marginal_node_influece = marginal_node_influece\n",
        "        best_new_node = node\n",
        "\n",
        "    \n",
        "    if best_new_node is not None:\n",
        "      top_nodes.append(best_new_node)\n",
        "      remain_budget -= node_costs[best_new_node]\n",
        "      print(f\"top_nodes = {top_nodes}\")\n",
        "\n",
        "    if remain_budget == 0 or best_new_node is None:\n",
        "      break\n",
        "\n",
        "  return top_nodes"
      ],
      "metadata": {
        "id": "ThSruLW5MO7e"
      },
      "execution_count": 87,
      "outputs": []
    },
    {
      "cell_type": "code",
      "source": [
        "influence_maximization_hill_climbing(graph=graph,\n",
        "                                     budget=10,\n",
        "                                     probability=0.01,\n",
        "                                     number_realization=5, \n",
        "                                     cost_normal=False, node_costs=node_costs)"
      ],
      "metadata": {
        "id": "aaG2B90JRgDP",
        "outputId": "a36b9d2f-49f7-4ac2-9f18-3575f614612b",
        "colab": {
          "base_uri": "https://localhost:8080/"
        }
      },
      "execution_count": 88,
      "outputs": [
        {
          "output_type": "stream",
          "name": "stdout",
          "text": [
            "top_nodes = [111161]\n",
            "top_nodes = [111161, 126106]\n",
            "top_nodes = [111161, 126106, 48436]\n",
            "top_nodes = [111161, 126106, 48436, 76406]\n",
            "top_nodes = [111161, 126106, 48436, 76406, 50911]\n",
            "top_nodes = [111161, 126106, 48436, 76406, 50911, 32009]\n",
            "top_nodes = [111161, 126106, 48436, 76406, 50911, 32009, 41554]\n",
            "top_nodes = [111161, 126106, 48436, 76406, 50911, 32009, 41554, 64974]\n",
            "top_nodes = [111161, 126106, 48436, 76406, 50911, 32009, 41554, 64974, 63401]\n",
            "top_nodes = [111161, 126106, 48436, 76406, 50911, 32009, 41554, 64974, 63401, 39542]\n"
          ]
        },
        {
          "output_type": "execute_result",
          "data": {
            "text/plain": [
              "[111161, 126106, 48436, 76406, 50911, 32009, 41554, 64974, 63401, 39542]"
            ]
          },
          "metadata": {},
          "execution_count": 88
        }
      ]
    },
    {
      "cell_type": "code",
      "source": [
        "[44322, 34023, 40773, 56914, 3169, 70866, 56669, 15615, 95784, 92163]\n"
      ],
      "metadata": {
        "id": "_Z3aECI_R1m7"
      },
      "execution_count": null,
      "outputs": []
    },
    {
      "cell_type": "code",
      "source": [
        "[124529, 53213, 113172, 84641, 86566, 52136, 75415, 5187, 118403, 11856]\n"
      ],
      "metadata": {
        "id": "qa9uZCB9UKgP"
      },
      "execution_count": null,
      "outputs": []
    },
    {
      "cell_type": "code",
      "source": [
        "[111161, 126106, 48436, 76406, 50911, 32009, 41554, 64974, 63401, 39542]\n",
        "number_realization=5"
      ],
      "metadata": {
        "id": "7y_D3TFuWlk4"
      },
      "execution_count": null,
      "outputs": []
    },
    {
      "cell_type": "code",
      "source": [
        "for node in [124529, 53213, 113172, 84641, 86566, 52136, 75415, 5187, 118403, 11856]:\n",
        "  print(len(graph.neighbour_set[node]))"
      ],
      "metadata": {
        "id": "1HE6ThX6W3mv",
        "outputId": "82a7e2f8-ab9d-4107-ef71-8b7c021aa3f5",
        "colab": {
          "base_uri": "https://localhost:8080/"
        }
      },
      "execution_count": 93,
      "outputs": [
        {
          "output_type": "stream",
          "name": "stdout",
          "text": [
            "224\n",
            "504\n",
            "34\n",
            "2\n",
            "29\n",
            "4\n",
            "6\n",
            "15\n",
            "9\n",
            "9\n"
          ]
        }
      ]
    },
    {
      "cell_type": "code",
      "source": [
        "for node in [111161, 126106, 48436, 76406, 50911, 32009, 41554, 64974, 63401, 39542]:\n",
        "  print(len(graph.neighbour_set[node]))"
      ],
      "metadata": {
        "id": "4fINmJFFWnuQ",
        "outputId": "00818351-be5c-4848-ea56-14d65e10d07c",
        "colab": {
          "base_uri": "https://localhost:8080/"
        }
      },
      "execution_count": 92,
      "outputs": [
        {
          "output_type": "stream",
          "name": "stdout",
          "text": [
            "350\n",
            "1\n",
            "2\n",
            "7\n",
            "41\n",
            "6\n",
            "153\n",
            "9\n",
            "7\n",
            "8\n"
          ]
        }
      ]
    },
    {
      "cell_type": "code",
      "source": [
        "influence(graph=graph, initial_nodes=[111161, 126106, 48436, 76406, 50911, 32009, 41554, 64974, 63401, 39542], probability=0.01, number_realization=5)"
      ],
      "metadata": {
        "id": "uy9XCo8FWq3O",
        "outputId": "86a1e709-834f-4056-804c-0ca9c628f871",
        "colab": {
          "base_uri": "https://localhost:8080/"
        }
      },
      "execution_count": 94,
      "outputs": [
        {
          "output_type": "execute_result",
          "data": {
            "text/plain": [
              "44.0"
            ]
          },
          "metadata": {},
          "execution_count": 94
        }
      ]
    },
    {
      "cell_type": "code",
      "source": [
        "influence(graph=graph, initial_nodes=[44322, 34023, 40773, 56914, 3169, 70866, 56669, 15615, 95784, 92163], probability=0.01, number_realization=5)"
      ],
      "metadata": {
        "id": "Aj0Z7rVHXBci",
        "outputId": "9d066f9a-49b7-4ab3-dbfd-67183b56528f",
        "colab": {
          "base_uri": "https://localhost:8080/"
        }
      },
      "execution_count": 96,
      "outputs": [
        {
          "output_type": "execute_result",
          "data": {
            "text/plain": [
              "51.0"
            ]
          },
          "metadata": {},
          "execution_count": 96
        }
      ]
    },
    {
      "cell_type": "code",
      "source": [
        "influence(graph=graph, initial_nodes=random.sample(graph.nodes, 10), probability=0.01, number_realization=5)"
      ],
      "metadata": {
        "id": "Wck8Iz2WXGHi",
        "outputId": "457a236e-4d1f-4b89-a7ae-fc0e996323fd",
        "colab": {
          "base_uri": "https://localhost:8080/"
        }
      },
      "execution_count": 101,
      "outputs": [
        {
          "output_type": "execute_result",
          "data": {
            "text/plain": [
              "12.8"
            ]
          },
          "metadata": {},
          "execution_count": 101
        }
      ]
    },
    {
      "cell_type": "code",
      "source": [],
      "metadata": {
        "id": "RpaGUp9vXT0R"
      },
      "execution_count": null,
      "outputs": []
    }
  ]
}