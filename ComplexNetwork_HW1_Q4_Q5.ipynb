{
  "nbformat": 4,
  "nbformat_minor": 0,
  "metadata": {
    "colab": {
      "provenance": [],
      "collapsed_sections": [],
      "toc_visible": true,
      "authorship_tag": "ABX9TyOw4Wc1hCRz8ePeP4cKInM8",
      "include_colab_link": true
    },
    "kernelspec": {
      "name": "python3",
      "display_name": "Python 3"
    },
    "language_info": {
      "name": "python"
    }
  },
  "cells": [
    {
      "cell_type": "markdown",
      "metadata": {
        "id": "view-in-github",
        "colab_type": "text"
      },
      "source": [
        "<a href=\"https://colab.research.google.com/github/AUT-Student/CN-HW1/blob/main/ComplexNetwork_HW1_Q4_Q5.ipynb\" target=\"_parent\"><img src=\"https://colab.research.google.com/assets/colab-badge.svg\" alt=\"Open In Colab\"/></a>"
      ]
    },
    {
      "cell_type": "markdown",
      "source": [
        "# Graph"
      ],
      "metadata": {
        "id": "rRsOhUfNEljp"
      }
    },
    {
      "cell_type": "code",
      "source": [
        "from dataclasses import dataclass\n",
        "\n",
        "@dataclass(frozen=True)\n",
        "class Edge():\n",
        "  \"\"\" This class stores data of an directed edge\n",
        "  \n",
        "  Args:\n",
        "    source: The source of an edge\n",
        "    destination: The destination of an edge\n",
        "\n",
        "  \"\"\"\n",
        "  source: int\n",
        "  destination: int"
      ],
      "metadata": {
        "id": "kWT7-a49B6Rd"
      },
      "execution_count": 1,
      "outputs": []
    },
    {
      "cell_type": "code",
      "source": [
        "class Graph():\n",
        "  \"\"\" This class stores data of a directed graph. Furtermore some functions defines here\"\"\"\n",
        "  def __init__(self):\n",
        "    self.nodes = set()\n",
        "    self.edges = set()\n",
        "    self.neighbour_set = dict()\n",
        "    self.neighbour_reverse_set = dict()\n",
        "\n",
        "  def add_node(self, node):\n",
        "    self.nodes.add(node)\n",
        "\n",
        "    if node not in self.neighbour_set:\n",
        "      self.neighbour_set[node] = set()\n",
        "\n",
        "    if node not in self.neighbour_reverse_set:\n",
        "      self.neighbour_reverse_set[node] = set()\n",
        "\n",
        "  def add_edge(self, edge:Edge):\n",
        "    self.add_node(edge.source)\n",
        "    self.add_node(edge.destination)\n",
        "\n",
        "    self.neighbour_set[edge.source].add(edge.destination)\n",
        "    self.neighbour_reverse_set[edge.destination].add(edge.source)\n",
        "    self.edges.add(edge)\n",
        "\n",
        "  def remove_edge(self, edge:Edge):\n",
        "    self.neighbour_set[edge.source].remove(edge.destination)\n",
        "    self.neighbour_reverse_set[edge.destination].remove(edge.source)\n",
        "    self.edges.remove(edge)\n",
        "\n",
        "  def is_exist(self, edge:Edge):\n",
        "    return edge in self.edges\n",
        "\n",
        "  def get_number_nodes(self):\n",
        "    return len(self.nodes)\n",
        "\n",
        "  def get_number_edges(self):\n",
        "    return len(self.edges)\n",
        "  \n",
        "  def get_total_degree(self, node):\n",
        "    return len(self.neighbour_reverse_set[node].\\\n",
        "               union(self.neighbour_set[node]))"
      ],
      "metadata": {
        "id": "nBISchcVBpG-"
      },
      "execution_count": 2,
      "outputs": []
    },
    {
      "cell_type": "code",
      "source": [
        "# Refrence: https://snap.stanford.edu/data/ca-AstroPh.html\n",
        "\n",
        "!gdown https://snap.stanford.edu/data/ca-AstroPh.txt.gz\n",
        "!gzip -d ./ca-AstroPh.txt.gz\n",
        "\n",
        "with open(\"/content/ca-AstroPh.txt\", \"r\") as f:\n",
        "  graph = Graph()\n",
        "\n",
        "  lines = f.readlines()\n",
        "\n",
        "  for line in lines[4:]:\n",
        "    nodes = line.split(\"\\t\")\n",
        "    graph.add_edge(Edge(source=int(nodes[0]), destination=int(nodes[1])))"
      ],
      "metadata": {
        "id": "E7u24ZKWCOXJ",
        "colab": {
          "base_uri": "https://localhost:8080/"
        },
        "outputId": "1adac48b-0cad-42de-feec-332e234676d8"
      },
      "execution_count": 3,
      "outputs": [
        {
          "output_type": "stream",
          "name": "stdout",
          "text": [
            "Downloading...\n",
            "From: https://snap.stanford.edu/data/ca-AstroPh.txt.gz\n",
            "To: /content/ca-AstroPh.txt.gz\n",
            "100% 1.45M/1.45M [00:00<00:00, 1.70MB/s]\n"
          ]
        }
      ]
    },
    {
      "cell_type": "code",
      "source": [
        "graph.get_number_edges()"
      ],
      "metadata": {
        "colab": {
          "base_uri": "https://localhost:8080/"
        },
        "id": "O4LQOW1yD5aU",
        "outputId": "aa8d4860-3e73-423e-fa74-67bbdb11f25a"
      },
      "execution_count": 4,
      "outputs": [
        {
          "output_type": "execute_result",
          "data": {
            "text/plain": [
              "396160"
            ]
          },
          "metadata": {},
          "execution_count": 4
        }
      ]
    },
    {
      "cell_type": "code",
      "source": [
        "graph.get_number_nodes()"
      ],
      "metadata": {
        "colab": {
          "base_uri": "https://localhost:8080/"
        },
        "id": "ztL2tLAVD8y0",
        "outputId": "9a24aad7-9db4-43b6-f6a0-944342bf09ee"
      },
      "execution_count": 5,
      "outputs": [
        {
          "output_type": "execute_result",
          "data": {
            "text/plain": [
              "18772"
            ]
          },
          "metadata": {},
          "execution_count": 5
        }
      ]
    },
    {
      "cell_type": "markdown",
      "source": [
        "# Benefit Functions & Costs"
      ],
      "metadata": {
        "id": "Trn3nY2lEn35"
      }
    },
    {
      "cell_type": "code",
      "source": [
        "import random\n",
        "import numpy as np\n",
        "def influence(graph:Graph, initial_nodes,\n",
        "              probability=0.001, number_realization=1):\n",
        "\n",
        "  effected_node_numbers = []\n",
        "  for _ in range(number_realization):\n",
        "    effected_nodes = set()\n",
        "    influencers = initial_nodes\n",
        "\n",
        "    while(len(influencers)>0):\n",
        "      new_influencers = set()\n",
        "\n",
        "      for influencer in influencers:\n",
        "        effected_nodes.add(influencer)\n",
        "\n",
        "      for influencer in influencers:\n",
        "        neighbours = graph.neighbour_set[influencer]\n",
        "\n",
        "        for neighbour in neighbours:\n",
        "          if neighbour not in effected_nodes and random.random() < probability:\n",
        "            new_influencers.add(neighbour)\n",
        "\n",
        "      influencers = list(new_influencers)\n",
        "\n",
        "    effected_node_numbers.append(len(effected_nodes))\n",
        "  \n",
        "  return np.average(effected_node_numbers)"
      ],
      "metadata": {
        "id": "0xqXfkfiEg3Q"
      },
      "execution_count": 6,
      "outputs": []
    },
    {
      "cell_type": "code",
      "source": [
        "def outbreak(graph:Graph, initial_nodes,\n",
        "             probability=0.001, number_realization=1):\n",
        " \n",
        "  sensor_nodes = initial_nodes\n",
        "  \n",
        "  for _ in range(number_realization):\n",
        "    effected_nodes = set()\n",
        "    initial_outbreak_nodes = random.sample(graph.nodes, 10)\n",
        "    effected_node_numbers = []\n",
        "\n",
        "    for outbreak_node in initial_outbreak_nodes:\n",
        "      influencers = [outbreak_node]\n",
        "      outbreak_detected = False\n",
        "\n",
        "      while(len(influencers)>0 and not outbreak_detected):\n",
        "        new_influencers = set()\n",
        "\n",
        "        for influencer in influencers:\n",
        "          effected_nodes.add(influencer)\n",
        "\n",
        "        for influencer in influencers:\n",
        "          neighbours = graph.neighbour_set[influencer]\n",
        "\n",
        "          for neighbour in neighbours:\n",
        "            if neighbour not in effected_nodes and random.random() < probability:\n",
        "              new_influencers.add(neighbour)\n",
        "\n",
        "              if neighbour in sensor_nodes:\n",
        "                outbreak_detected = True\n",
        "\n",
        "        influencers = list(new_influencers)\n",
        "\n",
        "    effected_node_numbers.append(len(effected_nodes))\n",
        "  \n",
        "  not_effected_node_numbers = len(graph.nodes) - np.average(effected_node_numbers)\n",
        "\n",
        "  return not_effected_node_numbers * 0.25"
      ],
      "metadata": {
        "id": "kCUHNSS8OeIg"
      },
      "execution_count": 7,
      "outputs": []
    },
    {
      "cell_type": "code",
      "source": [
        "node_costs_q4 = dict()\n",
        "for node in graph.nodes:\n",
        "  node_costs_q4[node] = 1"
      ],
      "metadata": {
        "id": "ZFW0GOu5PAF8"
      },
      "execution_count": 8,
      "outputs": []
    },
    {
      "cell_type": "code",
      "source": [
        "node_costs_q5 = dict()\n",
        "for node in graph.nodes:\n",
        "  node_costs_q5[node] = graph.get_total_degree(node) * 0.8"
      ],
      "metadata": {
        "id": "wpxcjVlT7-GO"
      },
      "execution_count": 9,
      "outputs": []
    },
    {
      "cell_type": "markdown",
      "source": [
        "# Hill Climbing & CELF"
      ],
      "metadata": {
        "id": "0hOPgwea7xzn"
      }
    },
    {
      "cell_type": "code",
      "source": [
        "from copy import deepcopy\n",
        "import math\n",
        "def hill_climbing(graph:Graph,\n",
        "                  budget:float,\n",
        "                  benefit_function,\n",
        "                  cost_normal:bool,\n",
        "                  node_costs:dict,\n",
        "                  probability=0.001,\n",
        "                  number_realization=1):\n",
        "  \"\"\"\n",
        "  Args:\n",
        "    graph(Graph): The graph\n",
        "    budget(float): The maximum treshold for costs of selected nodes.\n",
        "    benefit_function(function): The benefit function (f)\n",
        "    probability(float): The activation probability in the influence function. (See function influence)\n",
        "    number_realization(int): The number of realization in the influence function. (See function influence)\n",
        "    const_normal(bool): If this arg equals to true, the marginal gain will normalize with cost of each node.\n",
        "    node_costs(dict): The dictionary that specify the selection cost for each node.\n",
        "\n",
        "  Returns:\n",
        "    list: The top nodes with maximum influence\n",
        "  \"\"\"\n",
        "  \n",
        "  top_nodes = list()\n",
        "  remain_budget = budget\n",
        "\n",
        "  while(True):\n",
        "    best_marginal_benefit = -math.inf\n",
        "    best_new_node = None\n",
        "\n",
        "    for node in graph.nodes:\n",
        "      if node in top_nodes or node_costs[node] > remain_budget: continue\n",
        "\n",
        "      initial_nodes = deepcopy(top_nodes)\n",
        "      initial_nodes.append(node)\n",
        "\n",
        "      marginal_benefit = benefit_function(graph=graph,\n",
        "                                                initial_nodes=initial_nodes,\n",
        "                                                probability=probability,\n",
        "                                                number_realization=number_realization)\n",
        "\n",
        "      if cost_normal:\n",
        "        marginal_benefit /= node_costs[node]\n",
        "\n",
        "      if marginal_benefit > best_marginal_benefit:\n",
        "        best_marginal_benefit = marginal_benefit\n",
        "        best_new_node = node\n",
        "\n",
        "    \n",
        "    if best_new_node is not None:\n",
        "      top_nodes.append(best_new_node)\n",
        "      remain_budget -= node_costs[best_new_node]\n",
        "      print(f\"Top Nodes = {top_nodes}, Remain Budget = {remain_budget}\")\n",
        "\n",
        "    if remain_budget == 0 or best_new_node is None:\n",
        "      break\n",
        "\n",
        "  top_benefit = benefit_function(graph=graph,\n",
        "                                 initial_nodes=top_nodes,\n",
        "                                 probability=probability,\n",
        "                                 number_realization=number_realization)\n",
        "\n",
        "  return top_nodes, top_benefit"
      ],
      "metadata": {
        "id": "ThSruLW5MO7e"
      },
      "execution_count": 10,
      "outputs": []
    },
    {
      "cell_type": "code",
      "source": [
        "from copy import deepcopy\n",
        "import math\n",
        "import heapq\n",
        "\n",
        "def lazy_hill_climbing(graph:Graph,\n",
        "                       budget:float,\n",
        "                       benefit_function,\n",
        "                       cost_normal:bool,\n",
        "                       node_costs:dict,\n",
        "                       probability=0.001,\n",
        "                       number_realization=1):\n",
        "  \"\"\"\n",
        "  Args:\n",
        "    graph(Graph): The graph\n",
        "    budget(float): The maximum treshold for costs of selected nodes.\n",
        "    benefit_function(function): The benefit function (f)\n",
        "    probability(float): The activation probability in the influence function. (See function influence)\n",
        "    number_realization(int): The number of realization in the influence function. (See function influence)\n",
        "    const_normal(bool): If this arg equals to true, the marginal gain will normalize with cost of each node.\n",
        "    node_costs(dict): The dictionary that specify the selection cost for each node.\n",
        "\n",
        "  Returns:\n",
        "    list: The top nodes with maximum influence\n",
        "  \"\"\"\n",
        "  \n",
        "  top_nodes = list()\n",
        "  remain_budget = budget\n",
        "\n",
        "  marginal_benefit_heap = list()\n",
        "  heapq.heapify(marginal_benefit_heap)\n",
        "\n",
        "\n",
        "  for node in graph.nodes:\n",
        "    \n",
        "      initial_benefit = benefit_function(graph=graph,\n",
        "                                         initial_nodes=[node],\n",
        "                                         probability=probability,\n",
        "                                         number_realization=number_realization)\n",
        " \n",
        "      if cost_normal:\n",
        "        initial_benefit /= node_costs[node]\n",
        "\n",
        "      heapq.heappush(marginal_benefit_heap, (-initial_benefit, (node, 0)))\n",
        "\n",
        "\n",
        "  while(True):\n",
        "    current_time = len(top_nodes)\n",
        "\n",
        "    if len(marginal_benefit_heap)==0: break\n",
        "\n",
        "\n",
        "    negative_node_benefit, (node, node_time) = heapq.heappop(marginal_benefit_heap)\n",
        "    node_bebefit = -negative_node_benefit\n",
        "\n",
        "    if node not in top_nodes and node_costs[node] <= remain_budget:\n",
        "      if node_time == current_time:\n",
        "        top_nodes.append(node)\n",
        "        remain_budget -= node_costs[node]\n",
        "        print(f\"Top Nodes = {top_nodes}, Remain Budget = {remain_budget}\")\n",
        "        \n",
        "        if remain_budget == 0:\n",
        "          break\n",
        "\n",
        "      else:\n",
        "\n",
        "        initial_nodes = deepcopy(top_nodes)\n",
        "        initial_nodes.append(node)\n",
        "\n",
        "        marginal_benefit = benefit_function(graph=graph,\n",
        "                                                  initial_nodes=initial_nodes,\n",
        "                                                  probability=probability,\n",
        "                                                  number_realization=number_realization)\n",
        "\n",
        "        if cost_normal:\n",
        "          marginal_benefit /= node_costs[node]\n",
        "\n",
        "        negative_node_benefit = -marginal_benefit\n",
        "\n",
        "        heapq.heappush(marginal_benefit_heap, (negative_node_benefit, (node, current_time)))\n",
        "\n",
        "\n",
        "  top_benefit = benefit_function(graph=graph,\n",
        "                                 initial_nodes=top_nodes,\n",
        "                                 probability=probability,\n",
        "                                 number_realization=number_realization)\n",
        "  \n",
        "  return top_nodes, top_benefit"
      ],
      "metadata": {
        "id": "3hd8YuspEnAw"
      },
      "execution_count": 11,
      "outputs": []
    },
    {
      "cell_type": "code",
      "source": [
        "def celf(graph:Graph,\n",
        "        budget:float,\n",
        "        benefit_function,\n",
        "        node_costs:dict,\n",
        "        probability=0.001,\n",
        "        number_realization=1):\n",
        "\n",
        "  \"\"\"\n",
        "  Args:\n",
        "    graph(Graph): The graph\n",
        "    budget(float): The maximum treshold for costs of selected nodes.\n",
        "    benefit_function(function): The benefit function (f)\n",
        "    probability(float): The activation probability in the influence function. (See function influence)\n",
        "    number_realization(int): The number of realization in the influence function. (See function influence)\n",
        "    node_costs(dict): The dictionary that specify the selection cost for each node.\n",
        "\n",
        "  Returns:\n",
        "    list: The top nodes with maximum influence\n",
        "  \"\"\"\n",
        "\n",
        "  print(\"Ignore Cost Hill Climbing:\")\n",
        "  top_nodes_ignore_cost, benefit_ignore_cost = lazy_hill_climbing(graph=graph, budget=budget, benefit_function=benefit_function,\n",
        "                                                                  cost_normal=False, node_costs=node_costs, probability=probability,\n",
        "                                                                  number_realization=number_realization)\n",
        "  \n",
        "  print(\"Normal Cose Hill Climbing:\")\n",
        "  top_nodes_normal_cost, benefit_normal_cost = lazy_hill_climbing(graph=graph, budget=budget, benefit_function=benefit_function,\n",
        "                                                                  cost_normal=True, node_costs=node_costs, probability=probability,\n",
        "                                                                  number_realization=number_realization)\n",
        "  \n",
        "  if benefit_ignore_cost < benefit_normal_cost:\n",
        "    return top_nodes_normal_cost, benefit_normal_cost\n",
        "  else:\n",
        "    return top_nodes_ignore_cost, benefit_ignore_cost"
      ],
      "metadata": {
        "id": "gcqWOCMyfcWK"
      },
      "execution_count": 23,
      "outputs": []
    },
    {
      "cell_type": "markdown",
      "source": [
        "# Run Question 4"
      ],
      "metadata": {
        "id": "3ViWZ8Ky8Dg_"
      }
    },
    {
      "cell_type": "code",
      "source": [
        "import random\n",
        "\n",
        "sum_result = 0\n",
        "for i in range(100):\n",
        "  result = influence(graph=graph, initial_nodes=random.sample(graph.nodes, 10),\n",
        "                    probability=0.01, number_realization=5)\n",
        "\n",
        "  sum_result += result\n",
        "\n",
        "print(sum_result/100)"
      ],
      "metadata": {
        "colab": {
          "base_uri": "https://localhost:8080/"
        },
        "id": "dj3TzE949xxC",
        "outputId": "a489398b-328f-4f8a-c235-2c589d959619"
      },
      "execution_count": 20,
      "outputs": [
        {
          "output_type": "stream",
          "name": "stdout",
          "text": [
            "19.770000000000003\n"
          ]
        }
      ]
    },
    {
      "cell_type": "code",
      "source": [
        "import time\n",
        "\n",
        "start = time.time()\n",
        "\n",
        "nodes, benefit = hill_climbing(graph=graph,\n",
        "                               budget=10,\n",
        "                               benefit_function=influence,\n",
        "                               probability=0.01,\n",
        "                               number_realization=5, \n",
        "                               cost_normal=False, node_costs=node_costs_q4)\n",
        "\n",
        "end = time.time()\n",
        "print(f\"Time = {end - start} seconds\")\n",
        "print(f\"Nodes = {nodes}\")\n",
        "print(f\"Benefit = {benefit}\")"
      ],
      "metadata": {
        "colab": {
          "base_uri": "https://localhost:8080/"
        },
        "id": "IHbKM-re8JmX",
        "outputId": "f2b23590-fa2b-4232-a60b-b7bb83c1dc74"
      },
      "execution_count": 21,
      "outputs": [
        {
          "output_type": "stream",
          "name": "stdout",
          "text": [
            "Top Nodes = [84424], Remain Budget = 9\n",
            "Top Nodes = [84424, 131813], Remain Budget = 8\n",
            "Top Nodes = [84424, 131813, 69236], Remain Budget = 7\n",
            "Top Nodes = [84424, 131813, 69236, 14692], Remain Budget = 6\n",
            "Top Nodes = [84424, 131813, 69236, 14692, 114160], Remain Budget = 5\n",
            "Top Nodes = [84424, 131813, 69236, 14692, 114160, 501], Remain Budget = 4\n",
            "Top Nodes = [84424, 131813, 69236, 14692, 114160, 501, 91812], Remain Budget = 3\n",
            "Top Nodes = [84424, 131813, 69236, 14692, 114160, 501, 91812, 87227], Remain Budget = 2\n",
            "Top Nodes = [84424, 131813, 69236, 14692, 114160, 501, 91812, 87227, 61196], Remain Budget = 1\n",
            "Top Nodes = [84424, 131813, 69236, 14692, 114160, 501, 91812, 87227, 61196, 63243], Remain Budget = 0\n",
            "Time = 451.0688045024872 seconds\n",
            "Nodes = [84424, 131813, 69236, 14692, 114160, 501, 91812, 87227, 61196, 63243]\n",
            "Benefit = 33.4\n"
          ]
        }
      ]
    },
    {
      "cell_type": "code",
      "source": [
        "import time\n",
        "\n",
        "start = time.time()\n",
        "\n",
        "nodes, benefit = celf(graph=graph,\n",
        "                      budget=10,\n",
        "                      benefit_function=influence,\n",
        "                      probability=0.01,\n",
        "                      number_realization=5, \n",
        "                      node_costs=node_costs_q4)\n",
        "\n",
        "end = time.time()\n",
        "print(f\"Time = {end - start} seconds\")\n",
        "print(f\"Nodes = {nodes}\")\n",
        "print(f\"Benefit = {benefit}\")"
      ],
      "metadata": {
        "colab": {
          "base_uri": "https://localhost:8080/"
        },
        "id": "6vmncnrA9m0N",
        "outputId": "31f1d2be-3fb8-4ae5-ba42-6ed46dfac050"
      },
      "execution_count": 24,
      "outputs": [
        {
          "output_type": "stream",
          "name": "stdout",
          "text": [
            "Ignore Cost Hill Climbing:\n",
            "Top Nodes = [53213], Remain Budget = 9\n",
            "Top Nodes = [53213, 93504], Remain Budget = 8\n",
            "Top Nodes = [53213, 93504, 111161], Remain Budget = 7\n",
            "Top Nodes = [53213, 93504, 111161, 35348], Remain Budget = 6\n",
            "Top Nodes = [53213, 93504, 111161, 35348, 37479], Remain Budget = 5\n",
            "Top Nodes = [53213, 93504, 111161, 35348, 37479, 36833], Remain Budget = 4\n",
            "Top Nodes = [53213, 93504, 111161, 35348, 37479, 36833, 97320], Remain Budget = 3\n",
            "Top Nodes = [53213, 93504, 111161, 35348, 37479, 36833, 97320, 47968], Remain Budget = 2\n",
            "Top Nodes = [53213, 93504, 111161, 35348, 37479, 36833, 97320, 47968, 58401], Remain Budget = 1\n",
            "Top Nodes = [53213, 93504, 111161, 35348, 37479, 36833, 97320, 47968, 58401, 25850], Remain Budget = 0\n",
            "Normal Cose Hill Climbing:\n",
            "Top Nodes = [62821], Remain Budget = 9\n",
            "Top Nodes = [62821, 114959], Remain Budget = 8\n",
            "Top Nodes = [62821, 114959, 111161], Remain Budget = 7\n",
            "Top Nodes = [62821, 114959, 111161, 72941], Remain Budget = 6\n",
            "Top Nodes = [62821, 114959, 111161, 72941, 21271], Remain Budget = 5\n",
            "Top Nodes = [62821, 114959, 111161, 72941, 21271, 80561], Remain Budget = 4\n",
            "Top Nodes = [62821, 114959, 111161, 72941, 21271, 80561, 99028], Remain Budget = 3\n",
            "Top Nodes = [62821, 114959, 111161, 72941, 21271, 80561, 99028, 49747], Remain Budget = 2\n",
            "Top Nodes = [62821, 114959, 111161, 72941, 21271, 80561, 99028, 49747, 78038], Remain Budget = 1\n",
            "Top Nodes = [62821, 114959, 111161, 72941, 21271, 80561, 99028, 49747, 78038, 93504], Remain Budget = 0\n",
            "Time = 4.932187795639038 seconds\n",
            "Nodes = [53213, 93504, 111161, 35348, 37479, 36833, 97320, 47968, 58401, 25850]\n",
            "Benefit = 144.6\n"
          ]
        }
      ]
    },
    {
      "cell_type": "markdown",
      "source": [
        "# Run Question 5"
      ],
      "metadata": {
        "id": "uUijboP58KDK"
      }
    },
    {
      "cell_type": "code",
      "source": [
        "import random\n",
        "\n",
        "sum_result = 0\n",
        "\n",
        "for i in range(100):\n",
        "  graph_nodes = list(graph.nodes)\n",
        "\n",
        "  random.shuffle(graph_nodes)\n",
        "\n",
        "  budget = 10\n",
        "\n",
        "  selected_nodes = []\n",
        "  for node in graph_nodes:\n",
        "    if node_costs_q5[node] < budget:\n",
        "      budget -= node_costs_q5[node]\n",
        "      selected_nodes.append(node)\n",
        "\n",
        "    \n",
        "  result = outbreak(graph=graph, initial_nodes=random.sample(graph.nodes, 10),\n",
        "                    probability=0.01, number_realization=5)\n",
        "\n",
        "  sum_result += result\n",
        "\n",
        "print(sum_result/100)"
      ],
      "metadata": {
        "colab": {
          "base_uri": "https://localhost:8080/"
        },
        "id": "refuT5qnBRdr",
        "outputId": "fbe9adfa-0fd7-4e8e-f4bb-139914aa6c78"
      },
      "execution_count": 32,
      "outputs": [
        {
          "output_type": "stream",
          "name": "stdout",
          "text": [
            "4687.605\n"
          ]
        }
      ]
    },
    {
      "cell_type": "code",
      "source": [
        "import time\n",
        "\n",
        "start = time.time()\n",
        "\n",
        "nodes, benefit = hill_climbing(graph=graph,\n",
        "                               budget=10,\n",
        "                               benefit_function=outbreak,\n",
        "                               probability=0.01,\n",
        "                               number_realization=5, \n",
        "                               cost_normal=False, node_costs=node_costs_q5)\n",
        "\n",
        "end = time.time()\n",
        "print(f\"Time = {end - start} seconds\")\n",
        "print(f\"Nodes = {nodes}\")\n",
        "print(f\"Benefit = {benefit}\")"
      ],
      "metadata": {
        "colab": {
          "base_uri": "https://localhost:8080/"
        },
        "id": "kTMzGU2atmDr",
        "outputId": "db6f9627-a341-4ca0-ac77-51989dca66ed"
      },
      "execution_count": 26,
      "outputs": [
        {
          "output_type": "stream",
          "name": "stdout",
          "text": [
            "Top Nodes = [98326], Remain Budget = 6.8\n",
            "Top Nodes = [98326, 65541], Remain Budget = 2.8\n",
            "Top Nodes = [98326, 65541, 4], Remain Budget = 1.1999999999999997\n",
            "Top Nodes = [98326, 65541, 4, 97], Remain Budget = 0.3999999999999997\n",
            "Time = 95.18195247650146 seconds\n",
            "Nodes = [98326, 65541, 4, 97]\n",
            "Benefit = 4689.5\n"
          ]
        }
      ]
    },
    {
      "cell_type": "code",
      "source": [
        "import time\n",
        "\n",
        "start = time.time()\n",
        "\n",
        "nodes, benefit = celf(graph=graph,\n",
        "                      budget=10,\n",
        "                      benefit_function=outbreak,\n",
        "                      probability=0.01,\n",
        "                      number_realization=5, \n",
        "                      node_costs=node_costs_q5)\n",
        "\n",
        "end = time.time()\n",
        "print(f\"Time = {end - start} seconds\")\n",
        "print(f\"Nodes = {nodes}\")\n",
        "print(f\"Benefit = {benefit}\")"
      ],
      "metadata": {
        "colab": {
          "base_uri": "https://localhost:8080/"
        },
        "id": "svVqA6H74sMg",
        "outputId": "a6618760-3af5-46c4-9aa5-3621f239654e"
      },
      "execution_count": 27,
      "outputs": [
        {
          "output_type": "stream",
          "name": "stdout",
          "text": [
            "Ignore Cost Hill Climbing:\n",
            "Top Nodes = [35], Remain Budget = 6.0\n",
            "Top Nodes = [35, 1102], Remain Budget = 1.1999999999999993\n",
            "Top Nodes = [35, 1102, 2255], Remain Budget = 0.39999999999999925\n",
            "Normal Cose Hill Climbing:\n",
            "Top Nodes = [179], Remain Budget = 9.2\n",
            "Top Nodes = [179, 3138], Remain Budget = 8.399999999999999\n",
            "Top Nodes = [179, 3138, 3639], Remain Budget = 7.599999999999999\n",
            "Top Nodes = [179, 3138, 3639, 4035], Remain Budget = 6.799999999999999\n",
            "Top Nodes = [179, 3138, 3639, 4035, 5414], Remain Budget = 5.999999999999999\n",
            "Top Nodes = [179, 3138, 3639, 4035, 5414, 11039], Remain Budget = 5.199999999999999\n",
            "Top Nodes = [179, 3138, 3639, 4035, 5414, 11039, 11153], Remain Budget = 4.3999999999999995\n",
            "Top Nodes = [179, 3138, 3639, 4035, 5414, 11039, 11153, 15353], Remain Budget = 3.5999999999999996\n",
            "Top Nodes = [179, 3138, 3639, 4035, 5414, 11039, 11153, 15353, 21370], Remain Budget = 2.8\n",
            "Top Nodes = [179, 3138, 3639, 4035, 5414, 11039, 11153, 15353, 21370, 21383], Remain Budget = 1.9999999999999998\n",
            "Top Nodes = [179, 3138, 3639, 4035, 5414, 11039, 11153, 15353, 21370, 21383, 23627], Remain Budget = 1.1999999999999997\n",
            "Top Nodes = [179, 3138, 3639, 4035, 5414, 11039, 11153, 15353, 21370, 21383, 23627, 26086], Remain Budget = 0.3999999999999997\n",
            "Time = 141.27310872077942 seconds\n",
            "Nodes = [35, 1102, 2255]\n",
            "Benefit = 4690.25\n"
          ]
        }
      ]
    },
    {
      "cell_type": "code",
      "source": [],
      "metadata": {
        "id": "xXen3ChWDc_V"
      },
      "execution_count": null,
      "outputs": []
    }
  ]
}