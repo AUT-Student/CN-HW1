{
  "nbformat": 4,
  "nbformat_minor": 0,
  "metadata": {
    "colab": {
      "provenance": [],
      "collapsed_sections": [],
      "authorship_tag": "ABX9TyPQvaRo4n1FM8tFbPHRRgwr",
      "include_colab_link": true
    },
    "kernelspec": {
      "name": "python3",
      "display_name": "Python 3"
    },
    "language_info": {
      "name": "python"
    }
  },
  "cells": [
    {
      "cell_type": "markdown",
      "metadata": {
        "id": "view-in-github",
        "colab_type": "text"
      },
      "source": [
        "<a href=\"https://colab.research.google.com/github/AUT-Student/CN-HW1/blob/main/ComplexNetwork_HW1_Q1.ipynb\" target=\"_parent\"><img src=\"https://colab.research.google.com/assets/colab-badge.svg\" alt=\"Open In Colab\"/></a>"
      ]
    },
    {
      "cell_type": "markdown",
      "source": [
        "<center><b>In the name of God</b></center>\n",
        "\n",
        "<b>Course</b>: Complex Network\n",
        "<br>\n",
        "<b>Description:</b> HomeWork 1 | Question 1\n",
        "<br>\n",
        "<b>Developer</b>: Alireza Mazochi (400131075)"
      ],
      "metadata": {
        "id": "3NZyVBcOdc9f"
      }
    },
    {
      "cell_type": "markdown",
      "source": [
        "# Data Class"
      ],
      "metadata": {
        "id": "4s9OPoP5Wa4o"
      }
    },
    {
      "cell_type": "code",
      "source": [
        "from dataclasses import dataclass\n",
        "\n",
        "@dataclass(frozen=True)\n",
        "class Edge():\n",
        "  \"\"\" This class stores data of an unweighted and undirected edge\n",
        "  \n",
        "  Args:\n",
        "    source: The source of an edge\n",
        "    destination: The destination of an edge\n",
        "\n",
        "  Note: Because of undirected manner, the source and the destination can be swap. \n",
        "  \"\"\"\n",
        "  source: int\n",
        "  destination: int\n",
        "\n",
        "  def __eq__(self, other):\n",
        "    return (self.source == other.source and self.destination == other.destination) or\\\n",
        "           (self.destination == other.source and self.source == other.destination)\n"
      ],
      "metadata": {
        "id": "paR7AHaeQyWp"
      },
      "execution_count": null,
      "outputs": []
    },
    {
      "cell_type": "code",
      "execution_count": null,
      "metadata": {
        "id": "QbJgrRoXNxMk"
      },
      "outputs": [],
      "source": [
        "class Graph():\n",
        "  \"\"\" This class stores data of a unweighted and undirected graph. Furtermore some functions defines here\"\"\"\n",
        "  def __init__(self):\n",
        "    self.nodes = set()\n",
        "    self.edges = set()\n",
        "    self.neighbour_set = dict()\n",
        "\n",
        "  def add_node(self, node):\n",
        "    self.nodes.add(node)\n",
        "\n",
        "    if node not in self.neighbour_set:\n",
        "      self.neighbour_set[node] = set()\n",
        "\n",
        "  def add_edge(self, edge:Edge):\n",
        "    self.add_node(edge.source)\n",
        "    self.add_node(edge.destination)\n",
        "\n",
        "    self.neighbour_set[edge.source].add(edge.destination)\n",
        "    self.neighbour_set[edge.destination].add(edge.source)\n",
        "    self.edges.add(edge)\n",
        "\n",
        "  def remove_edge(self, edge:Edge):\n",
        "    self.neighbour_set[edge.source].remove(edge.destination)\n",
        "    self.neighbour_set[edge.destination].remove(edge.source)\n",
        "    self.edges.remove(edge)\n",
        "\n",
        "  def is_exist(self, edge:Edge):\n",
        "    return edge in self.edges\n",
        "\n",
        "  def get_number_nodes(self):\n",
        "    return len(self.nodes)\n",
        "\n",
        "  def get_number_edges(self):\n",
        "    return len(self.edges)\n",
        "\n",
        "  def get_cluster_coefficient_node(self, node):\n",
        "    neighbours = self.neighbour_set[node]\n",
        "\n",
        "    k_node = len(neighbours)\n",
        "    e_node = 0\n",
        "\n",
        "    if k_node <= 1: return 0\n",
        "\n",
        "    for n1 in neighbours:\n",
        "      for n2 in neighbours:\n",
        "        if n1 < n2:\n",
        "          if self.is_exist(Edge(n1, n2)):\n",
        "            e_node += 1\n",
        "    \n",
        "    return (2 * e_node) / (k_node * (k_node - 1))\n",
        "\n",
        "  def get_cluster_coefficient(self):\n",
        "    sum = 0\n",
        "    for node in self.nodes:\n",
        "      cluster_coefficient = self.get_cluster_coefficient_node(node)\n",
        "      sum += cluster_coefficient\n",
        "    \n",
        "    return sum / len(self.nodes)\n",
        "\n",
        "  def get_node_degree_list(self):\n",
        "    node_degree_list = []\n",
        "    for node in self.nodes:\n",
        "      node_degree = len(self.neighbour_set[node])\n",
        "      node_degree_list.append(node_degree)\n",
        "    return node_degree_list"
      ]
    },
    {
      "cell_type": "markdown",
      "source": [
        "# Graph Generation"
      ],
      "metadata": {
        "id": "XSnrZ_qZWdQS"
      }
    },
    {
      "cell_type": "code",
      "source": [
        "import random\n",
        "\n",
        "class ErdosRenyiGraph(Graph):\n",
        "  \"\"\" Graph generator for Erdos Renyi Graph\n",
        "  \n",
        "  Args:\n",
        "    number_nodes: The requested number of nodes.\n",
        "    number_edges: The requested number of edges.\n",
        "  \"\"\"\n",
        "  def __init__(self, number_nodes, number_edges):\n",
        "    super().__init__()\n",
        "    self.number_nodes = number_nodes\n",
        "    self.number_edges = number_edges\n",
        "\n",
        "  def generate(self):\n",
        "    for i in range(self.number_nodes):\n",
        "      self.add_node(i)\n",
        "\n",
        "    all_possible_edges = []\n",
        "    \n",
        "    for node1 in range(self.number_nodes):\n",
        "      for node2 in range(node1+1, self.number_nodes):\n",
        "        all_possible_edges.append(Edge(node1, node2))\n",
        "    \n",
        "    selected_edges = random.sample(all_possible_edges, self.number_edges)\n",
        "    for edge in selected_edges:\n",
        "      self.add_edge(edge)\n"
      ],
      "metadata": {
        "id": "usI0nwKaecSI"
      },
      "execution_count": null,
      "outputs": []
    },
    {
      "cell_type": "code",
      "source": [
        "import random\n",
        "\n",
        "class SmallWorldGraph(Graph):\n",
        "    \"\"\" Graph generator for Erdos Renyi Graph\n",
        "    \n",
        "    Args:\n",
        "      number_nodes: The requested number of nodes.\n",
        "      number_edges: The requested number of edges.\n",
        "      random_prob: The random probability for changing the destination of an edge\n",
        "    \"\"\"\n",
        "\n",
        "  def __init__(self, number_nodes, number_edges, random_prob):\n",
        "    super().__init__()\n",
        "    self.number_nodes = number_nodes\n",
        "    self.number_edges = number_edges\n",
        "    self.scale = self.number_edges / self.number_nodes\n",
        "    self.random_prob = random_prob\n",
        "\n",
        "  def random_change(self, number_random):\n",
        "    remove_edges = random.sample(self.edges, number_random)\n",
        "    source_edges_remove = list()\n",
        "    for edge in remove_edges:\n",
        "      self.remove_edge(edge)\n",
        "      source_edges_remove.append(edge.source)\n",
        "\n",
        "    source_edges_remove = random.sample(source_edges_remove, self.number_edges - self.get_number_edges())\n",
        "\n",
        "    all_nodes = list(self.nodes)\n",
        "    for node1 in source_edges_remove:\n",
        "      while True:\n",
        "        node2 = random.choice(all_nodes)\n",
        "        edge = Edge(node1, node2)\n",
        "        if node2 != node1 and not self.is_exist(edge):\n",
        "          self.add_edge(edge)\n",
        "          break\n",
        "\n",
        "  def generate(self):\n",
        "    for i in range(self.number_nodes):\n",
        "      self.add_node(i)\n",
        "\n",
        "    # The number edges for each node\n",
        "    number_edges1 = int(self.scale)\n",
        "\n",
        "    # Handling float part of expected node degree\n",
        "    number_edges2 = int((self.scale - int(self.scale))*100 + 1)\n",
        "    \n",
        "    counter1 = 0\n",
        "    counter2 = 0\n",
        "    \n",
        "    for node1 in range(self.number_nodes):\n",
        "      for distance in range(1, number_edges1+1):\n",
        "        node2 = (node1 + distance)%self.number_nodes\n",
        "        self.add_edge(Edge(node1, node2))\n",
        "        counter1 += 1\n",
        "\n",
        "      if (node1 %100) < number_edges2:\n",
        "        node2 = (node1 + number_edges1 + 1)%self.number_nodes\n",
        "        self.add_edge(Edge(node1, node2))\n",
        "        counter2 += 1\n",
        "\n",
        "    number_random = int((self.get_number_edges() - self.number_edges) +\\\n",
        "                          self.random_prob * self.get_number_edges())\n",
        "    \n",
        "    self.random_change(number_random = number_random)"
      ],
      "metadata": {
        "id": "BhOIDWoNnMTY"
      },
      "execution_count": null,
      "outputs": []
    },
    {
      "cell_type": "code",
      "source": [
        "import pandas as pd\n",
        "\n",
        "class LastfmGraph(Graph):\n",
        "    \"\"\" Graph loader for LastFM Asia Social Network as a complex network\n",
        "    \n",
        "    Refrence: https://snap.stanford.edu/data/feather-lastfm-social.html \n",
        "    \"\"\"\n",
        "  def __init__(self):\n",
        "    super().__init__()\n",
        "    self._load_data()\n",
        "\n",
        "  def _load_data(self):\n",
        "    !gdown https://snap.stanford.edu/data/lastfm_asia.zip &1>/dev/null\n",
        "    !unzip  -n /content/lastfm_asia.zip\n",
        "\n",
        "    lastfm_dataset = pd.read_csv(\"/content/lasftm_asia/lastfm_asia_edges.csv\")\n",
        "\n",
        "    for i, data in lastfm_dataset.iterrows():\n",
        "      node1 = data[\"node_1\"]\n",
        "      node2 = data[\"node_2\"]\n",
        "\n",
        "      self.add_edge(Edge(node1, node2))"
      ],
      "metadata": {
        "id": "OszAg9-vWi9b"
      },
      "execution_count": null,
      "outputs": []
    },
    {
      "cell_type": "markdown",
      "source": [
        "# Create Graphs"
      ],
      "metadata": {
        "id": "MgGdB93TXrwq"
      }
    },
    {
      "cell_type": "code",
      "source": [
        "lastfm_graph = LastfmGraph()"
      ],
      "metadata": {
        "colab": {
          "base_uri": "https://localhost:8080/"
        },
        "id": "syAkI7p8XzTs",
        "outputId": "ec4c1f2e-8113-40a0-9ddc-6b7ab92a0233"
      },
      "execution_count": null,
      "outputs": [
        {
          "output_type": "stream",
          "name": "stdout",
          "text": [
            "Downloading...\n",
            "From: https://snap.stanford.edu/data/lastfm_asia.zip\n",
            "To: /content/lastfm_asia.zip\n",
            "100% 6.53M/6.53M [00:04<00:00, 1.47MB/s]\n",
            "Archive:  /content/lastfm_asia.zip\n"
          ]
        }
      ]
    },
    {
      "cell_type": "code",
      "source": [
        "er_graph = ErdosRenyiGraph(number_nodes=7624, number_edges=27806)"
      ],
      "metadata": {
        "id": "6AIbNjs7jgHx"
      },
      "execution_count": null,
      "outputs": []
    },
    {
      "cell_type": "code",
      "source": [
        "er_graph.generate()"
      ],
      "metadata": {
        "id": "JzyBsF_7jzFt"
      },
      "execution_count": null,
      "outputs": []
    },
    {
      "cell_type": "code",
      "source": [
        "small_world_graph = SmallWorldGraph(number_nodes=7624, number_edges=27806, random_prob=0.05)"
      ],
      "metadata": {
        "id": "gHnynnAkqqEz"
      },
      "execution_count": null,
      "outputs": []
    },
    {
      "cell_type": "code",
      "source": [
        "small_world_graph.generate()"
      ],
      "metadata": {
        "id": "5dZn_NjtrIeg"
      },
      "execution_count": null,
      "outputs": []
    },
    {
      "cell_type": "markdown",
      "source": [
        "# Digree Distribution"
      ],
      "metadata": {
        "id": "tnpZGXmxXXsZ"
      }
    },
    {
      "cell_type": "code",
      "source": [
        "lastfm_graph_degree_list = lastfm_graph.get_node_degree_list()\n",
        "small_world_graph_degree_list = small_world_graph.get_node_degree_list()\n",
        "er_degree_list = er_graph.get_node_degree_list()"
      ],
      "metadata": {
        "id": "jtiVqlykbHTI"
      },
      "execution_count": null,
      "outputs": []
    },
    {
      "cell_type": "code",
      "source": [
        "import matplotlib.pyplot as plt\n",
        "import numpy as np\n",
        "\n",
        "degree_lists = [er_degree_list, small_world_graph_degree_list, lastfm_graph_degree_list]\n",
        "titles = [\"Erdos-Renyi\", \"Small-World\", \"LastFM\"]\n",
        "colors = [\"green\", \"red\", \"blue\"]\n",
        "\n",
        "fig, ax = plt.subplots(2,3)\n",
        "\n",
        "for i in range(3):\n",
        "\n",
        "  degree_dict = dict()\n",
        "  for degree in degree_lists[i]:\n",
        "    if degree not in degree_dict: degree_dict[degree] = 0\n",
        "    degree_dict[degree] += 1\n",
        "\n",
        "  scatter_x = []\n",
        "  scatter_y = []\n",
        "\n",
        "  for degree in degree_dict:\n",
        "    scatter_x.append(degree)\n",
        "    scatter_y.append(degree_dict[degree])\n",
        "\n",
        "  # Normal Scale\n",
        "  ax[0][i].scatter(scatter_x, scatter_y, c=colors[i])\n",
        "  \n",
        "  # Log-Log Scale\n",
        "  ax[1][i].scatter(np.log10(scatter_x), np.log10(scatter_y), c=colors[i])\n",
        "\n",
        "  ax[0][i].set_title(f\"{titles[i]}\\nNormal Scale\")\n",
        "  ax[1][i].set_title(f\"{titles[i]}\\nLog-Log Scale\")\n",
        "\n",
        "\n",
        "fig.suptitle(\"Degree Distributions\", fontsize=24)\n",
        "fig.set_size_inches(15,10)\n",
        "fig.tight_layout()\n",
        "fig.subplots_adjust(top=0.90)\n",
        "plt.show()"
      ],
      "metadata": {
        "colab": {
          "base_uri": "https://localhost:8080/",
          "height": 743
        },
        "id": "Fn6_FA_qfOMy",
        "outputId": "141a235b-d585-4c70-aae7-f39a538c261a"
      },
      "execution_count": null,
      "outputs": [
        {
          "output_type": "stream",
          "name": "stderr",
          "text": [
            "/usr/local/lib/python3.7/dist-packages/ipykernel_launcher.py:25: RuntimeWarning: divide by zero encountered in log10\n"
          ]
        },
        {
          "output_type": "display_data",
          "data": {
            "text/plain": [
              "<Figure size 1080x720 with 6 Axes>"
            ],
            "image/png": "[encoded data removed]"
          },
          "metadata": {
            "needs_background": "light"
          }
        }
      ]
    },
    {
      "cell_type": "markdown",
      "source": [
        "# Clustering Coefficient"
      ],
      "metadata": {
        "id": "2xkc2WoTXfN4"
      }
    },
    {
      "cell_type": "code",
      "source": [
        "er_graph.get_cluster_coefficient()"
      ],
      "metadata": {
        "colab": {
          "base_uri": "https://localhost:8080/"
        },
        "id": "U_Nh3bwhaO-M",
        "outputId": "b2f454e6-77c1-44a8-e3df-1df90724c760"
      },
      "execution_count": null,
      "outputs": [
        {
          "output_type": "execute_result",
          "data": {
            "text/plain": [
              "0.0006326631425004975"
            ]
          },
          "metadata": {},
          "execution_count": 142
        }
      ]
    },
    {
      "cell_type": "code",
      "source": [
        "small_world_graph.get_cluster_coefficient()"
      ],
      "metadata": {
        "colab": {
          "base_uri": "https://localhost:8080/"
        },
        "id": "pJsgEvAWaZMg",
        "outputId": "2db21b69-06e1-4b50-8d3c-2671e71c26cb"
      },
      "execution_count": null,
      "outputs": [
        {
          "output_type": "execute_result",
          "data": {
            "text/plain": [
              "0.5414613550434559"
            ]
          },
          "metadata": {},
          "execution_count": 143
        }
      ]
    },
    {
      "cell_type": "code",
      "source": [
        "lastfm_graph.get_cluster_coefficient()"
      ],
      "metadata": {
        "colab": {
          "base_uri": "https://localhost:8080/"
        },
        "id": "G0IKTDcRX3r1",
        "outputId": "9bdd962f-cdd0-49d8-ad7d-06d851dde1a5"
      },
      "execution_count": null,
      "outputs": [
        {
          "output_type": "execute_result",
          "data": {
            "text/plain": [
              "0.21941842432708525"
            ]
          },
          "metadata": {},
          "execution_count": 144
        }
      ]
    }
  ]
}