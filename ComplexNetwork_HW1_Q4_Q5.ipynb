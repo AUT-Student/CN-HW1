{
  "nbformat": 4,
  "nbformat_minor": 0,
  "metadata": {
    "colab": {
      "provenance": [],
      "authorship_tag": "ABX9TyOxDd3f2scMVo28wSjEvZLN",
      "include_colab_link": true
    },
    "kernelspec": {
      "name": "python3",
      "display_name": "Python 3"
    },
    "language_info": {
      "name": "python"
    }
  },
  "cells": [
    {
      "cell_type": "markdown",
      "metadata": {
        "id": "view-in-github",
        "colab_type": "text"
      },
      "source": [
        "<a href=\"https://colab.research.google.com/github/AUT-Student/CN-HW1/blob/main/ComplexNetwork_HW1_Q4_Q5.ipynb\" target=\"_parent\"><img src=\"https://colab.research.google.com/assets/colab-badge.svg\" alt=\"Open In Colab\"/></a>"
      ]
    },
    {
      "cell_type": "code",
      "execution_count": 1,
      "metadata": {
        "id": "K5VpkOMpA5cV"
      },
      "outputs": [],
      "source": [
        "# Refrence: https://hautahi.com/im_greedycelf"
      ]
    },
    {
      "cell_type": "code",
      "source": [
        "from dataclasses import dataclass\n",
        "\n",
        "@dataclass(frozen=True)\n",
        "class Edge():\n",
        "  \"\"\" This class stores data of an directed edge\n",
        "  \n",
        "  Args:\n",
        "    source: The source of an edge\n",
        "    destination: The destination of an edge\n",
        "\n",
        "  Note: Because of undirected manner, the source and the destination can be swap. \n",
        "  \"\"\"\n",
        "  source: int\n",
        "  destination: int"
      ],
      "metadata": {
        "id": "kWT7-a49B6Rd"
      },
      "execution_count": 13,
      "outputs": []
    },
    {
      "cell_type": "code",
      "source": [
        "class Graph():\n",
        "  \"\"\" This class stores data of a directed graph. Furtermore some functions defines here\"\"\"\n",
        "  def __init__(self):\n",
        "    self.nodes = set()\n",
        "    self.edges = set()\n",
        "    self.neighbour_set = dict()\n",
        "\n",
        "  def add_node(self, node):\n",
        "    self.nodes.add(node)\n",
        "\n",
        "    if node not in self.neighbour_set:\n",
        "      self.neighbour_set[node] = set()\n",
        "\n",
        "  def add_edge(self, edge:Edge):\n",
        "    self.add_node(edge.source)\n",
        "    self.add_node(edge.destination)\n",
        "\n",
        "    self.neighbour_set[edge.source].add(edge.destination)\n",
        "    self.edges.add(edge)\n",
        "\n",
        "  def remove_edge(self, edge:Edge):\n",
        "    self.neighbour_set[edge.source].remove(edge.destination)\n",
        "    self.edges.remove(edge)\n",
        "\n",
        "  def is_exist(self, edge:Edge):\n",
        "    return edge in self.edges\n",
        "\n",
        "  def get_number_nodes(self):\n",
        "    return len(self.nodes)\n",
        "\n",
        "  def get_number_edges(self):\n",
        "    return len(self.edges)"
      ],
      "metadata": {
        "id": "nBISchcVBpG-"
      },
      "execution_count": 14,
      "outputs": []
    },
    {
      "cell_type": "code",
      "source": [
        "# Refrence: https://snap.stanford.edu/data/ca-AstroPh.html\n",
        "\n",
        "!gdown https://snap.stanford.edu/data/ca-AstroPh.txt.gz\n",
        "!gzip -d ./ca-AstroPh.txt.gz\n",
        "\n",
        "with open(\"/content/ca-AstroPh.txt\", \"r\") as f:\n",
        "  graph = Graph()\n",
        "\n",
        "  lines = f.readlines()\n",
        "\n",
        "  for line in lines[4:]:\n",
        "    nodes = line.split(\"\\t\")\n",
        "    graph.add_edge(Edge(source=int(nodes[0]), destination=int(nodes[1])))"
      ],
      "metadata": {
        "id": "E7u24ZKWCOXJ"
      },
      "execution_count": 17,
      "outputs": []
    },
    {
      "cell_type": "code",
      "source": [
        "graph.get_number_edges()"
      ],
      "metadata": {
        "colab": {
          "base_uri": "https://localhost:8080/"
        },
        "id": "O4LQOW1yD5aU",
        "outputId": "99b12bf2-cf7c-41e7-f1ba-21734b09d820"
      },
      "execution_count": 18,
      "outputs": [
        {
          "output_type": "execute_result",
          "data": {
            "text/plain": [
              "396160"
            ]
          },
          "metadata": {},
          "execution_count": 18
        }
      ]
    },
    {
      "cell_type": "code",
      "source": [
        "graph.get_number_nodes()"
      ],
      "metadata": {
        "colab": {
          "base_uri": "https://localhost:8080/"
        },
        "id": "ztL2tLAVD8y0",
        "outputId": "f4d122d7-f280-4aed-b903-151cde710a70"
      },
      "execution_count": 19,
      "outputs": [
        {
          "output_type": "execute_result",
          "data": {
            "text/plain": [
              "18772"
            ]
          },
          "metadata": {},
          "execution_count": 19
        }
      ]
    }
  ]
}